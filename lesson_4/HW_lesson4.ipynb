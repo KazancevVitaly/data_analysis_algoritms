{
 "cells": [
  {
   "cell_type": "markdown",
   "id": "93a630b7",
   "metadata": {},
   "source": [
    "# Geek Brains\n",
    "# Алгоритмы анализа данных\n",
    "## ДЗ Урока 4\n",
    "## Казанцев Виталий"
   ]
  },
  {
   "cell_type": "markdown",
   "id": "3325e509",
   "metadata": {},
   "source": [
    "1. В коде из методички реализуйте один или несколько критериев останова: количество листьев, количество используемых признаков, глубина дерева и т. д.\n",
    "2. Реализуйте дерево для задачи регрессии. Возьмите за основу дерево, реализованное в методичке, заменив механизм предсказания в листе на взятие среднего значения по выборке, и критерий Джини на дисперсию значений."
   ]
  },
  {
   "cell_type": "code",
   "execution_count": 1,
   "id": "c0e455b0",
   "metadata": {},
   "outputs": [],
   "source": [
    "import matplotlib.pyplot as plt\n",
    "import random\n",
    "import numpy as np\n",
    "\n",
    "from sklearn import model_selection\n",
    "from matplotlib.colors import ListedColormap\n",
    "from sklearn import datasets\n",
    "\n",
    "%matplotlib inline"
   ]
  },
  {
   "cell_type": "code",
   "execution_count": 2,
   "id": "f3051f36",
   "metadata": {},
   "outputs": [],
   "source": [
    "# сгенерируем данные\n",
    "classification_data, classification_labels = datasets.make_classification(n_features = 2, n_informative = 2, \n",
    "                                                      n_classes = 2, n_redundant=0, \n",
    "                                                      n_clusters_per_class=1, random_state=5)"
   ]
  },
  {
   "cell_type": "code",
   "execution_count": 3,
   "id": "13135bdf",
   "metadata": {},
   "outputs": [
    {
     "data": {
      "text/plain": [
       "<matplotlib.collections.PathCollection at 0x7f42d4a63340>"
      ]
     },
     "execution_count": 3,
     "metadata": {},
     "output_type": "execute_result"
    },
    {
     "data": {
      "image/png": "[encoded data removed]",
      "text/plain": [
       "<Figure size 576x576 with 1 Axes>"
      ]
     },
     "metadata": {
      "needs_background": "light"
     },
     "output_type": "display_data"
    }
   ],
   "source": [
    "# визуализируем сгенерированные данные\n",
    "\n",
    "colors = ListedColormap(['red', 'blue'])\n",
    "light_colors = ListedColormap(['lightcoral', 'lightblue'])\n",
    "\n",
    "plt.figure(figsize=(8,8))\n",
    "plt.scatter(list(map(lambda x: x[0], classification_data)), list(map(lambda x: x[1], classification_data)), \n",
    "              c=classification_labels, cmap=colors)"
   ]
  },
  {
   "cell_type": "code",
   "execution_count": 4,
   "id": "dc015908",
   "metadata": {},
   "outputs": [],
   "source": [
    "# Реализуем класс узла\n",
    "\n",
    "class Node:\n",
    "    \n",
    "    def __init__(self, index, t, true_branch, false_branch):\n",
    "        self.index = index  # индекс признака, по которому ведется сравнение с порогом в этом узле\n",
    "        self.t = t  # значение порога\n",
    "        self.true_branch = true_branch  # поддерево, удовлетворяющее условию в узле\n",
    "        self.false_branch = false_branch  # поддерево, не удовлетворяющее условию в узле"
   ]
  },
  {
   "cell_type": "code",
   "execution_count": 5,
   "id": "a9027a7e",
   "metadata": {},
   "outputs": [],
   "source": [
    "# И класс терминального узла (листа)\n",
    "\n",
    "class Leaf:\n",
    "    \n",
    "    def __init__(self, data, labels):\n",
    "        self.data = data # значения признаков\n",
    "        self.labels = labels  # y_true\n",
    "        self.prediction = self.predict()  # y_pred\n",
    "        \n",
    "    def predict(self):\n",
    "        # подсчет количества объектов разных классов\n",
    "        classes = {}  # сформируем словарь \"класс: количество объектов\"\n",
    "        for label in self.labels:\n",
    "            if label not in classes:\n",
    "                classes[label] = 0\n",
    "            classes[label] += 1\n",
    "        #  найдем класс, количество объектов которого будет максимальным в этом листе и вернем его   \n",
    "        prediction = max(classes, key=classes.get)\n",
    "        return prediction"
   ]
  },
  {
   "cell_type": "code",
   "execution_count": 6,
   "id": "695fc4e3",
   "metadata": {},
   "outputs": [],
   "source": [
    "# Расчет критерия Джини\n",
    "\n",
    "def gini(labels):\n",
    "    #  подсчет количества объектов разных классов\n",
    "    classes = {}\n",
    "    for label in labels:\n",
    "        if label not in classes:\n",
    "            classes[label] = 0\n",
    "        classes[label] += 1\n",
    "    \n",
    "    #  расчет критерия\n",
    "    impurity = 1     # \"impurity\" - \"нечистота\", степень неопределенности\n",
    "    for label in classes:\n",
    "        p = classes[label] / len(labels) # долю объектов класса в листе\n",
    "        impurity -= p ** 2 # Критерий Джини\n",
    "        \n",
    "    return impurity"
   ]
  },
  {
   "cell_type": "code",
   "execution_count": 7,
   "id": "1eb54e90",
   "metadata": {},
   "outputs": [],
   "source": [
    "# Расчет качества\n",
    "\n",
    "def quality(left_labels, right_labels, current_gini):\n",
    "\n",
    "    # доля выборки, ушедшей в левое поддерево\n",
    "    p = float(left_labels.shape[0]) / (left_labels.shape[0] + right_labels.shape[0]) # для правого (1-p)\n",
    "    \n",
    "    return current_gini - p * gini(left_labels) - (1 - p) * gini(right_labels) # Функционал качества"
   ]
  },
  {
   "cell_type": "code",
   "execution_count": 8,
   "id": "d7e74ed6",
   "metadata": {},
   "outputs": [],
   "source": [
    "# Разбиение датасета в узле\n",
    "\n",
    "def split(data, labels, index, t):\n",
    "    \n",
    "    left = np.where(data[:, index] <= t)\n",
    "    right = np.where(data[:, index] > t)\n",
    "        \n",
    "    true_data = data[left]\n",
    "    false_data = data[right]\n",
    "    true_labels = labels[left]\n",
    "    false_labels = labels[right]\n",
    "        \n",
    "    return true_data, false_data, true_labels, false_labels"
   ]
  },
  {
   "cell_type": "code",
   "execution_count": 9,
   "id": "1112293a",
   "metadata": {},
   "outputs": [],
   "source": [
    "# Нахождение наилучшего разбиения\n",
    "\n",
    "def find_best_split(data, labels):\n",
    "    \n",
    "    #  обозначим минимальное количество объектов в узле\n",
    "    min_leaf = 5\n",
    "\n",
    "    current_gini = gini(labels) \n",
    "\n",
    "    best_quality = 0\n",
    "    best_t = None # лучший порог разбиения\n",
    "    best_index = None # лучший индекс разбиения\n",
    "    \n",
    "    n_features = data.shape[1] # кол-во признаков\n",
    "    \n",
    "    for index in range(n_features): # проход по всем признакам\n",
    "        t_values = [row[index] for row in data] # берем столбец/признак с соотв. индексом\n",
    "        \n",
    "        for t in t_values: # проход по признаку\n",
    "            true_data, false_data, true_labels, false_labels = split(data, labels, index, t) # делаем разбиение\n",
    "            #  пропускаем разбиения, в которых в узле остается менее 5 объектов\n",
    "            if len(true_data) < min_leaf or len(false_data) < min_leaf:\n",
    "                continue # начинаем следующий проход цикла, минуя оставшееся тело цикла\n",
    "            \n",
    "            # расчет качества текущего разбиения\n",
    "            current_quality = quality(true_labels, false_labels, current_gini)\n",
    "            \n",
    "            #  выбираем порог, на котором получается максимальный прирост качества\n",
    "            if current_quality > best_quality:\n",
    "                best_quality, best_t, best_index = current_quality, t, index\n",
    "\n",
    "    return best_quality, best_t, best_index"
   ]
  },
  {
   "cell_type": "code",
   "execution_count": 10,
   "id": "f806de3a",
   "metadata": {},
   "outputs": [],
   "source": [
    "# Построение дерева с помощью рекурсивной функции\n",
    "\n",
    "def build_tree(data, labels):\n",
    "\n",
    "    quality, t, index = find_best_split(data, labels) # ищем лучшее разбиение\n",
    "#     print(quality, t, index)\n",
    "\n",
    "    #  Базовый случай - прекращаем рекурсию, когда нет прироста в качества\n",
    "    # неопределенность после разбиения осталась такой же как до\n",
    "    if quality == 0: # критерий останова\n",
    "#         print('leaf')\n",
    "        return Leaf(data, labels) # считаем прогноз для листьев\n",
    "\n",
    "    # если качество улучшилось, то делим дерево по лучшему разбиению\n",
    "    true_data, false_data, true_labels, false_labels = split(data, labels, index, t)\n",
    "\n",
    "    # Рекурсивно строим два поддерева\n",
    "    true_branch = build_tree(true_data, true_labels)\n",
    "    false_branch = build_tree(false_data, false_labels)\n",
    "\n",
    "    # Возвращаем класс узла со всеми поддеревьями, то есть целого дерева\n",
    "    return Node(index, t, true_branch, false_branch)"
   ]
  },
  {
   "cell_type": "code",
   "execution_count": 11,
   "id": "44690b58",
   "metadata": {},
   "outputs": [],
   "source": [
    "# Проход объекта по дереву для его классификации\n",
    "\n",
    "def classify_object(obj, node):\n",
    "\n",
    "    #  Останавливаем рекурсию, если достигли листа\n",
    "    if isinstance(node, Leaf): # проверка текущий узел это лист?\n",
    "        answer = node.prediction # считаем прогноз для листа\n",
    "        return answer\n",
    "\n",
    "    if obj[node.index] <= node.t: # если значение признака меньше порога t\n",
    "        return classify_object(obj, node.true_branch) # рекурсия: отправляем объект в true-ветку\n",
    "    else:\n",
    "        return classify_object(obj, node.false_branch) # рекурсия: отправляем объект в false-ветку"
   ]
  },
  {
   "cell_type": "code",
   "execution_count": 12,
   "id": "0fa9b991",
   "metadata": {},
   "outputs": [],
   "source": [
    "# Предсказание деревом для всего датасета\n",
    "\n",
    "def predict(data, tree):\n",
    "    \n",
    "    classes = []\n",
    "    for obj in data:\n",
    "        prediction = classify_object(obj, tree) # определяем ветки для объектов\n",
    "        classes.append(prediction)\n",
    "    return classes"
   ]
  },
  {
   "cell_type": "code",
   "execution_count": 13,
   "id": "e597ce1d",
   "metadata": {},
   "outputs": [],
   "source": [
    "# Разобьем выборку на обучающую и тестовую\n",
    "train_data, test_data, train_labels, test_labels = model_selection.train_test_split(classification_data, \n",
    "                                                                                     classification_labels, \n",
    "                                                                                     test_size = 0.3,\n",
    "                                                                                     random_state = 1)"
   ]
  },
  {
   "cell_type": "code",
   "execution_count": 14,
   "id": "14b5244d",
   "metadata": {},
   "outputs": [
    {
     "name": "stdout",
     "output_type": "stream",
     "text": [
      "<__main__.Node object at 0x7f42d47f4160>\n"
     ]
    },
    {
     "data": {
      "text/plain": [
       "0"
      ]
     },
     "metadata": {},
     "output_type": "display_data"
    },
    {
     "data": {
      "text/plain": [
       "0.16261402870113306"
      ]
     },
     "metadata": {},
     "output_type": "display_data"
    },
    {
     "data": {
      "text/plain": [
       "<__main__.Node at 0x7f42d47f4130>"
      ]
     },
     "metadata": {},
     "output_type": "display_data"
    },
    {
     "data": {
      "text/plain": [
       "<__main__.Leaf at 0x7f42d47f4c10>"
      ]
     },
     "metadata": {},
     "output_type": "display_data"
    }
   ],
   "source": [
    "# Построим дерево по обучающей выборке\n",
    "my_tree = build_tree(train_data, train_labels)\n",
    "print(my_tree)\n",
    "display(my_tree.index, my_tree.t, my_tree.true_branch , my_tree.false_branch)"
   ]
  },
  {
   "cell_type": "code",
   "execution_count": 15,
   "id": "2b9ec9f4",
   "metadata": {},
   "outputs": [
    {
     "name": "stdout",
     "output_type": "stream",
     "text": [
      "Индекс 0\n",
      "Порог 0.16261402870113306\n",
      "--> True:\n",
      "  Индекс 1\n",
      "  Порог -1.5208896621663803\n",
      "  --> True:\n",
      "    Индекс 0\n",
      "    Порог -0.9478301462477035\n",
      "    --> True:\n",
      "      Прогноз: 0\n",
      "    --> False:\n",
      "      Прогноз: 1\n",
      "  --> False:\n",
      "    Прогноз: 0\n",
      "--> False:\n",
      "  Прогноз: 1\n"
     ]
    }
   ],
   "source": [
    "# Напечатаем ход нашего дерева\n",
    "def print_tree(node, spacing=\"\"):\n",
    "\n",
    "    # Если лист, то выводим его прогноз\n",
    "    if isinstance(node, Leaf):\n",
    "        print(spacing + \"Прогноз:\", node.prediction)\n",
    "        return\n",
    "\n",
    "    # Выведем значение индекса и порога на этом узле\n",
    "    print(spacing + 'Индекс', str(node.index))\n",
    "    print(spacing + 'Порог', str(node.t))\n",
    "\n",
    "    # Рекурсионный вызов функции на положительном поддереве\n",
    "    print (spacing + '--> True:')\n",
    "    print_tree(node.true_branch, spacing + \"  \")\n",
    "\n",
    "    # Рекурсионный вызов функции на отрицательном поддереве\n",
    "    print (spacing + '--> False:')\n",
    "    print_tree(node.false_branch, spacing + \"  \")\n",
    "    \n",
    "print_tree(my_tree)"
   ]
  },
  {
   "cell_type": "code",
   "execution_count": 16,
   "id": "b0be0b3c",
   "metadata": {},
   "outputs": [
    {
     "data": {
      "text/plain": [
       "[1, 1, 0, 0, 1]"
      ]
     },
     "execution_count": 16,
     "metadata": {},
     "output_type": "execute_result"
    }
   ],
   "source": [
    "# Получим ответы для обучающей выборки \n",
    "train_answers = predict(train_data, my_tree)\n",
    "train_answers[:5]"
   ]
  },
  {
   "cell_type": "code",
   "execution_count": 17,
   "id": "434f600b",
   "metadata": {},
   "outputs": [],
   "source": [
    "# И получим ответы для тестовой выборки\n",
    "answers = predict(test_data, my_tree)"
   ]
  },
  {
   "cell_type": "code",
   "execution_count": 18,
   "id": "4970a3a3",
   "metadata": {},
   "outputs": [],
   "source": [
    "# Введем функцию подсчета точности как доли правильных ответов\n",
    "def accuracy_metric(actual, predicted):\n",
    "    correct = 0\n",
    "    for i in range(len(actual)):\n",
    "        if actual[i] == predicted[i]:\n",
    "            correct += 1\n",
    "    return correct / float(len(actual)) * 100.0"
   ]
  },
  {
   "cell_type": "code",
   "execution_count": 19,
   "id": "73831eed",
   "metadata": {},
   "outputs": [
    {
     "data": {
      "text/plain": [
       "98.57142857142858"
      ]
     },
     "execution_count": 19,
     "metadata": {},
     "output_type": "execute_result"
    }
   ],
   "source": [
    "# Точность на обучающей выборке\n",
    "train_accuracy = accuracy_metric(train_labels, train_answers)\n",
    "train_accuracy"
   ]
  },
  {
   "cell_type": "code",
   "execution_count": 20,
   "id": "2d682a42",
   "metadata": {},
   "outputs": [
    {
     "data": {
      "text/plain": [
       "100.0"
      ]
     },
     "execution_count": 20,
     "metadata": {},
     "output_type": "execute_result"
    }
   ],
   "source": [
    "# Точность на тестовой выборке\n",
    "test_accuracy = accuracy_metric(test_labels, answers)\n",
    "test_accuracy"
   ]
  },
  {
   "cell_type": "code",
   "execution_count": 21,
   "id": "e5c374b9",
   "metadata": {},
   "outputs": [
    {
     "name": "stderr",
     "output_type": "stream",
     "text": [
      "/tmp/ipykernel_51520/3556686827.py:14: MatplotlibDeprecationWarning: shading='flat' when X and Y have the same dimensions as C is deprecated since 3.3.  Either specify the corners of the quadrilaterals with X and Y, or pass shading='auto', 'nearest' or 'gouraud', or set rcParams['pcolor.shading'].  This will become an error two minor releases later.\n",
      "  plt.pcolormesh(xx, yy, mesh_predictions, cmap = light_colors)\n",
      "/tmp/ipykernel_51520/3556686827.py:20: MatplotlibDeprecationWarning: shading='flat' when X and Y have the same dimensions as C is deprecated since 3.3.  Either specify the corners of the quadrilaterals with X and Y, or pass shading='auto', 'nearest' or 'gouraud', or set rcParams['pcolor.shading'].  This will become an error two minor releases later.\n",
      "  plt.pcolormesh(xx, yy, mesh_predictions, cmap = light_colors)\n"
     ]
    },
    {
     "data": {
      "text/plain": [
       "Text(0.5, 1.0, 'Test accuracy=100.00')"
      ]
     },
     "execution_count": 21,
     "metadata": {},
     "output_type": "execute_result"
    },
    {
     "data": {
      "image/png": "[encoded data removed]",
      "text/plain": [
       "<Figure size 1152x504 with 2 Axes>"
      ]
     },
     "metadata": {
      "needs_background": "light"
     },
     "output_type": "display_data"
    }
   ],
   "source": [
    "# Визуализируем дерево на графике\n",
    "\n",
    "def get_meshgrid(data, step=.05, border=1.2):\n",
    "    x_min, x_max = data[:, 0].min() - border, data[:, 0].max() + border\n",
    "    y_min, y_max = data[:, 1].min() - border, data[:, 1].max() + border\n",
    "    return np.meshgrid(np.arange(x_min, x_max, step), np.arange(y_min, y_max, step)) # список массивов координатных сеток\n",
    "\n",
    "plt.figure(figsize = (16, 7))\n",
    "\n",
    "# график обучающей выборки\n",
    "plt.subplot(1,2,1)\n",
    "xx, yy = get_meshgrid(train_data)\n",
    "mesh_predictions = np.array(predict(np.c_[xx.ravel(), yy.ravel()], my_tree)).reshape(xx.shape) # определяем цвета квадратов в сетке\n",
    "plt.pcolormesh(xx, yy, mesh_predictions, cmap = light_colors)\n",
    "plt.scatter(train_data[:, 0], train_data[:, 1], c = train_labels, cmap = colors)\n",
    "plt.title(f'Train accuracy={train_accuracy:.2f}')\n",
    "\n",
    "# график тестовой выборки\n",
    "plt.subplot(1,2,2)\n",
    "plt.pcolormesh(xx, yy, mesh_predictions, cmap = light_colors)\n",
    "plt.scatter(test_data[:, 0], test_data[:, 1], c = test_labels, cmap = colors)\n",
    "plt.title(f'Test accuracy={test_accuracy:.2f}')"
   ]
  },
  {
   "cell_type": "markdown",
   "id": "fbd10330",
   "metadata": {},
   "source": [
    "__Задание 1.__ В коде из методички реализуйте один или несколько из критериев останова (количество листьев, количество используемых признаков, глубина дерева и т.д.)"
   ]
  },
  {
   "cell_type": "markdown",
   "id": "cec9d613",
   "metadata": {},
   "source": [
    "__Количество листьев__"
   ]
  },
  {
   "cell_type": "code",
   "execution_count": 22,
   "id": "212c7d19",
   "metadata": {},
   "outputs": [],
   "source": [
    "def build_tree(data, labels, max_leaves=10, depth=0, n_leaves=0):\n",
    "    \n",
    "    quality, t, index = find_best_split(data, labels) # ищем лучшее разбиение\n",
    "#     print(quality, t, index)\n",
    "\n",
    "    #  Базовый случай - прекращаем рекурсию, когда нет прироста в качества\n",
    "    # неопределенность после разбиения осталась такой же как до\n",
    "    if quality == 0 or n_leaves >= max_leaves - 1 or depth >= max_leaves - 1: # критерий останова\n",
    "#         print('leaf')\n",
    "        n_leaves += 1\n",
    "        return Leaf(data, labels) # считаем прогноз для листьев\n",
    "\n",
    "    depth += 1\n",
    "    \n",
    "    # если качество улучшилось, то делим дерево по лучшему разбиению\n",
    "    true_data, false_data, true_labels, false_labels = split(data, labels, index, t)\n",
    "\n",
    "    # Рекурсивно строим два поддерева\n",
    "    true_branch = build_tree(true_data, true_labels)\n",
    "    false_branch = build_tree(false_data, false_labels)\n",
    "\n",
    "    # Возвращаем класс узла со всеми поддеревьями, то есть целого дерева\n",
    "    return Node(index, t, true_branch, false_branch)"
   ]
  },
  {
   "cell_type": "code",
   "execution_count": 23,
   "id": "cd266384",
   "metadata": {},
   "outputs": [
    {
     "name": "stdout",
     "output_type": "stream",
     "text": [
      "Индекс 0\n",
      "Порог 0.16261402870113306\n",
      "--> True:\n",
      "  Индекс 1\n",
      "  Порог -1.5208896621663803\n",
      "  --> True:\n",
      "    Индекс 0\n",
      "    Порог -0.9478301462477035\n",
      "    --> True:\n",
      "      Прогноз: 0\n",
      "    --> False:\n",
      "      Прогноз: 1\n",
      "  --> False:\n",
      "    Прогноз: 0\n",
      "--> False:\n",
      "  Прогноз: 1\n"
     ]
    }
   ],
   "source": [
    "my_tree = build_tree(train_data, train_labels)\n",
    "print_tree(my_tree)"
   ]
  },
  {
   "cell_type": "markdown",
   "id": "cb107307",
   "metadata": {},
   "source": [
    "__Глубина__"
   ]
  },
  {
   "cell_type": "code",
   "execution_count": 24,
   "id": "5a81a4aa",
   "metadata": {},
   "outputs": [],
   "source": [
    "def build_tree(data, labels, depth=4):\n",
    "\n",
    "    quality, t, index = find_best_split(data, labels) # ищем лучшее разбиение\n",
    "#     print(quality, t, index)\n",
    "\n",
    "    #  Базовый случай - прекращаем рекурсию, когда нет прироста в качества\n",
    "    # неопределенность после разбиения осталась такой же как до\n",
    "    if quality == 0 or depth == 0: # критерий останова\n",
    "#         print('leaf')\n",
    "        return Leaf(data, labels) # считаем прогноз для листьев\n",
    "\n",
    "    # если качество улучшилось, то делим дерево по лучшему разбиению\n",
    "    true_data, false_data, true_labels, false_labels = split(data, labels, index, t)\n",
    "\n",
    "    # Рекурсивно строим два поддерева\n",
    "    true_branch = build_tree(true_data, true_labels, depth - 1)\n",
    "    false_branch = build_tree(false_data, false_labels, depth - 1)\n",
    "\n",
    "    # Возвращаем класс узла со всеми поддеревьями, то есть целого дерева\n",
    "    return Node(index, t, true_branch, false_branch)"
   ]
  },
  {
   "cell_type": "code",
   "execution_count": 25,
   "id": "7a80d14c",
   "metadata": {},
   "outputs": [
    {
     "name": "stdout",
     "output_type": "stream",
     "text": [
      "Индекс 0\n",
      "Порог 0.16261402870113306\n",
      "--> True:\n",
      "  Индекс 1\n",
      "  Порог -1.5208896621663803\n",
      "  --> True:\n",
      "    Индекс 0\n",
      "    Порог -0.9478301462477035\n",
      "    --> True:\n",
      "      Прогноз: 0\n",
      "    --> False:\n",
      "      Прогноз: 1\n",
      "  --> False:\n",
      "    Прогноз: 0\n",
      "--> False:\n",
      "  Прогноз: 1\n"
     ]
    }
   ],
   "source": [
    "my_tree = build_tree(train_data, train_labels)\n",
    "print_tree(my_tree)"
   ]
  },
  {
   "cell_type": "markdown",
   "id": "815fb9cd",
   "metadata": {},
   "source": [
    "__Задание 2__ Реализуйте дерево для задачи регрессии. Возьмите за основу дерево, реализованное в методичке, заменив механизм предсказания в листе на взятие среднего значения по выборке, и критерий Джини на дисперсию значений."
   ]
  },
  {
   "cell_type": "code",
   "execution_count": 26,
   "id": "615c347f",
   "metadata": {},
   "outputs": [],
   "source": [
    "data, labels = datasets.make_regression(n_samples=1000, n_features=2, n_informative=2, random_state=5)"
   ]
  },
  {
   "cell_type": "code",
   "execution_count": 27,
   "id": "dd964ab8",
   "metadata": {},
   "outputs": [],
   "source": [
    "# Разобьем выборку на обучающую и тестовую\n",
    "train_data, test_data, train_labels, test_labels = model_selection.train_test_split(data, labels, \n",
    "                                                                                     test_size = 0.3,\n",
    "                                                                                     random_state = 1)"
   ]
  },
  {
   "cell_type": "code",
   "execution_count": 28,
   "id": "67f8b81f",
   "metadata": {},
   "outputs": [
    {
     "data": {
      "image/png": "[encoded data removed]",
      "text/plain": [
       "<Figure size 432x288 with 1 Axes>"
      ]
     },
     "metadata": {
      "needs_background": "light"
     },
     "output_type": "display_data"
    }
   ],
   "source": [
    "plt.plot(train_data[:,0], train_labels,'.')\n",
    "plt.show()"
   ]
  },
  {
   "cell_type": "code",
   "execution_count": 29,
   "id": "9f691c7b",
   "metadata": {},
   "outputs": [
    {
     "data": {
      "image/png": "[encoded data removed]",
      "text/plain": [
       "<Figure size 432x288 with 1 Axes>"
      ]
     },
     "metadata": {
      "needs_background": "light"
     },
     "output_type": "display_data"
    }
   ],
   "source": [
    "plt.plot(test_data[:,0], test_labels,'.')\n",
    "plt.show()"
   ]
  },
  {
   "cell_type": "code",
   "execution_count": 30,
   "id": "e6e485e2",
   "metadata": {},
   "outputs": [],
   "source": [
    "def mse(labels):\n",
    "    return np.mean((labels - labels.mean())**2)"
   ]
  },
  {
   "cell_type": "code",
   "execution_count": 31,
   "id": "572d8a14",
   "metadata": {},
   "outputs": [],
   "source": [
    "def find_best_split(data, labels):\n",
    "    \n",
    "    #  обозначим минимальное количество объектов в узле\n",
    "    min_samples_leaf = 5\n",
    "\n",
    "    root_mse = mse(labels)\n",
    "\n",
    "    best_quality = 0\n",
    "    best_t = None\n",
    "    best_index = None\n",
    "    \n",
    "    n_features = data.shape[1]\n",
    "    \n",
    "    for index in range(n_features):\n",
    "        # будем проверять только уникальные значения признака, исключая повторения\n",
    "        t_values = np.unique(data[:, index])\n",
    "        \n",
    "        for t in t_values:\n",
    "            true_data, false_data, true_targets, false_targets = split(data, labels, index, t)\n",
    "            #  пропускаем разбиения, в которых в узле остается менее 5 объектов\n",
    "            if len(true_data) < min_samples_leaf or len(false_data) < min_samples_leaf:\n",
    "                continue\n",
    "            \n",
    "            current_quality = quality(true_targets, false_targets, root_mse)\n",
    "            \n",
    "            #  выбираем порог, на котором получается максимальный прирост качества\n",
    "            if current_quality > best_quality:\n",
    "                best_quality, best_t, best_index = current_quality, t, index\n",
    "\n",
    "    return best_quality, best_t, best_index\n"
   ]
  },
  {
   "cell_type": "code",
   "execution_count": 32,
   "id": "6a9756d7",
   "metadata": {},
   "outputs": [],
   "source": [
    "def build_tree(data, target):\n",
    "\n",
    "    quality, t, index = find_best_split(data, target)\n",
    "\n",
    "    #  Базовый случай - прекращаем рекурсию, когда нет прироста в качества\n",
    "    if quality == 0:\n",
    "        return Leaf(data, target)\n",
    "\n",
    "    true_data, false_data, true_target, false_target = split(data, target, index, t)\n",
    "\n",
    "    # Рекурсивно строим два поддерева\n",
    "    true_branch = build_tree(true_data, true_target)\n",
    "    false_branch = build_tree(false_data, false_target)\n",
    "\n",
    "    node = Node(index, t, true_branch, false_branch)\n",
    "\n",
    "    # Возвращаем класс узла со всеми поддеревьями, то есть целого дерева\n",
    "    return node"
   ]
  },
  {
   "cell_type": "code",
   "execution_count": 33,
   "id": "b01cc789",
   "metadata": {},
   "outputs": [
    {
     "name": "stdout",
     "output_type": "stream",
     "text": [
      "Индекс 0\n",
      "Порог -2.448247515311877\n",
      "--> True:\n",
      "  Прогноз: -117.79814425510116\n",
      "--> False:\n",
      "  Индекс 0\n",
      "  Порог -2.1320856195468827\n",
      "  --> True:\n",
      "    Прогноз: -149.68307391418185\n",
      "  --> False:\n",
      "    Индекс 0\n",
      "    Порог -1.8807932577652682\n",
      "    --> True:\n",
      "      Прогноз: -66.05361630479513\n",
      "    --> False:\n",
      "      Индекс 0\n",
      "      Порог -1.807916624216005\n",
      "      --> True:\n",
      "        Прогноз: -109.44133383487512\n",
      "      --> False:\n",
      "        Индекс 0\n",
      "        Порог -1.6460114668987378\n",
      "        --> True:\n",
      "          Индекс 0\n",
      "          Порог -1.7379210888930738\n",
      "          --> True:\n",
      "            Прогноз: -32.23122007996443\n",
      "          --> False:\n",
      "            Прогноз: -196.57548613097646\n",
      "        --> False:\n",
      "          Индекс 0\n",
      "          Порог -1.1211340974961255\n",
      "          --> True:\n",
      "            Индекс 0\n",
      "            Порог -1.5929277448721917\n",
      "            --> True:\n",
      "              Прогноз: -123.81796002725498\n",
      "            --> False:\n",
      "              Индекс 0\n",
      "              Порог -1.498957519180928\n",
      "              --> True:\n",
      "                Прогноз: -88.89625483133858\n",
      "              --> False:\n",
      "                Индекс 0\n",
      "                Порог -1.4783734879527874\n",
      "                --> True:\n",
      "                  Прогноз: -102.27337278817272\n",
      "                --> False:\n",
      "                  Индекс 0\n",
      "                  Порог -1.3625895484978219\n",
      "                  --> True:\n",
      "                    Индекс 0\n",
      "                    Порог -1.4453021192196747\n",
      "                    --> True:\n",
      "                      Прогноз: 4.72653080906278\n",
      "                    --> False:\n",
      "                      Прогноз: -126.67653386570422\n",
      "                  --> False:\n",
      "                    Индекс 0\n",
      "                    Порог -1.318919648508623\n",
      "                    --> True:\n",
      "                      Прогноз: -28.149469694095274\n",
      "                    --> False:\n",
      "                      Индекс 0\n",
      "                      Порог -1.2796231822645914\n",
      "                      --> True:\n",
      "                        Прогноз: -78.44557738717442\n",
      "                      --> False:\n",
      "                        Индекс 0\n",
      "                        Порог -1.207080695234212\n",
      "                        --> True:\n",
      "                          Прогноз: -108.26700936483775\n",
      "                        --> False:\n",
      "                          Индекс 0\n",
      "                          Порог -1.184532036076911\n",
      "                          --> True:\n",
      "                            Прогноз: -83.91260512524688\n",
      "                          --> False:\n",
      "                            Прогноз: -65.888156083461\n",
      "          --> False:\n",
      "            Индекс 0\n",
      "            Порог -1.0734550855074312\n",
      "            --> True:\n",
      "              Прогноз: -114.79711994284669\n",
      "            --> False:\n",
      "              Индекс 0\n",
      "              Порог -1.0439731210034657\n",
      "              --> True:\n",
      "                Прогноз: -82.76711342076538\n",
      "              --> False:\n",
      "                Индекс 0\n",
      "                Порог -0.9589359629415093\n",
      "                --> True:\n",
      "                  Индекс 0\n",
      "                  Порог -1.0295734942351702\n",
      "                  --> True:\n",
      "                    Прогноз: -37.464572610600825\n",
      "                  --> False:\n",
      "                    Индекс 0\n",
      "                    Порог -0.9975052433325171\n",
      "                    --> True:\n",
      "                      Прогноз: -0.5047293938356248\n",
      "                    --> False:\n",
      "                      Прогноз: -24.140147541435205\n",
      "                --> False:\n",
      "                  Индекс 0\n",
      "                  Порог -0.9225285913731459\n",
      "                  --> True:\n",
      "                    Прогноз: -52.868691329720136\n",
      "                  --> False:\n",
      "                    Индекс 0\n",
      "                    Порог -0.8693923203544858\n",
      "                    --> True:\n",
      "                      Прогноз: -25.4609735332875\n",
      "                    --> False:\n",
      "                      Индекс 0\n",
      "                      Порог -0.7544613982936613\n",
      "                      --> True:\n",
      "                        Индекс 0\n",
      "                        Порог -0.8385805947249999\n",
      "                        --> True:\n",
      "                          Прогноз: -100.58606280779316\n",
      "                        --> False:\n",
      "                          Индекс 0\n",
      "                          Порог -0.7796364265458805\n",
      "                          --> True:\n",
      "                            Прогноз: 69.94171772792582\n",
      "                          --> False:\n",
      "                            Прогноз: -65.38061820837369\n",
      "                      --> False:\n",
      "                        Индекс 0\n",
      "                        Порог -0.7433841683223607\n",
      "                        --> True:\n",
      "                          Прогноз: -95.45653220474586\n",
      "                        --> False:\n",
      "                          Индекс 0\n",
      "                          Порог -0.7035969280577375\n",
      "                          --> True:\n",
      "                            Прогноз: -57.72905456027381\n",
      "                          --> False:\n",
      "                            Индекс 0\n",
      "                            Порог -0.6806540653541923\n",
      "                            --> True:\n",
      "                              Прогноз: -118.4719145871847\n",
      "                            --> False:\n",
      "                              Индекс 0\n",
      "                              Порог -0.6475627188004094\n",
      "                              --> True:\n",
      "                                Прогноз: -53.13227980132956\n",
      "                              --> False:\n",
      "                                Индекс 0\n",
      "                                Порог -0.6032411812254228\n",
      "                                --> True:\n",
      "                                  Индекс 0\n",
      "                                  Порог -0.635891152110188\n",
      "                                  --> True:\n",
      "                                    Прогноз: -15.646156516097346\n",
      "                                  --> False:\n",
      "                                    Индекс 0\n",
      "                                    Порог -0.6181803430738254\n",
      "                                    --> True:\n",
      "                                      Прогноз: -95.3442389985826\n",
      "                                    --> False:\n",
      "                                      Прогноз: -10.96354954961133\n",
      "                                --> False:\n",
      "                                  Индекс 0\n",
      "                                  Порог -0.5730261517660101\n",
      "                                  --> True:\n",
      "                                    Прогноз: -50.18667982261029\n",
      "                                  --> False:\n",
      "                                    Индекс 0\n",
      "                                    Порог -0.5494973323633916\n",
      "                                    --> True:\n",
      "                                      Прогноз: 24.69395508316554\n",
      "                                    --> False:\n",
      "                                      Индекс 0\n",
      "                                      Порог -0.5325521219813126\n",
      "                                      --> True:\n",
      "                                        Прогноз: -15.022043915105655\n",
      "                                      --> False:\n",
      "                                        Индекс 0\n",
      "                                        Порог -0.510256056076286\n",
      "                                        --> True:\n",
      "                                          Прогноз: -5.061610267434823\n",
      "                                        --> False:\n",
      "                                          Индекс 0\n",
      "                                          Порог -0.453036380284904\n",
      "                                          --> True:\n",
      "                                            Индекс 0\n",
      "                                            Порог -0.4865368780415053\n",
      "                                            --> True:\n",
      "                                              Прогноз: -3.7205307456454157\n",
      "                                            --> False:\n",
      "                                              Прогноз: 53.71175000754268\n",
      "                                          --> False:\n",
      "                                            Индекс 0\n",
      "                                            Порог -0.41731727529120094\n",
      "                                            --> True:\n",
      "                                              Прогноз: -30.582579702482896\n",
      "                                            --> False:\n",
      "                                              Индекс 0\n",
      "                                              Порог -0.4039924696397172\n",
      "                                              --> True:\n",
      "                                                Прогноз: -55.943196667647484\n",
      "                                              --> False:\n",
      "                                                Индекс 0\n",
      "                                                Порог -0.33986050853427485\n",
      "                                                --> True:\n",
      "                                                  Индекс 0\n",
      "                                                  Порог -0.375707409780949\n",
      "                                                  --> True:\n",
      "                                                    Прогноз: -57.47123738651298\n",
      "                                                  --> False:\n",
      "                                                    Прогноз: -38.66454908127749\n",
      "                                                --> False:\n",
      "                                                  Индекс 0\n",
      "                                                  Порог -0.27158407447493416\n",
      "                                                  --> True:\n",
      "                                                    Индекс 0\n",
      "                                                    Порог -0.3088477726134558\n",
      "                                                    --> True:\n",
      "                                                      Прогноз: -67.88075538841018\n",
      "                                                    --> False:\n",
      "                                                      Прогноз: -52.77533102578974\n",
      "                                                  --> False:\n",
      "                                                    Индекс 0\n",
      "                                                    Порог -0.24071114226406937\n",
      "                                                    --> True:\n",
      "                                                      Прогноз: 33.639265092073\n",
      "                                                    --> False:\n",
      "                                                      Индекс 0\n",
      "                                                      Порог -0.21306716162840686\n",
      "                                                      --> True:\n",
      "                                                        Прогноз: 63.444963243110024\n",
      "                                                      --> False:\n",
      "                                                        Индекс 0\n",
      "                                                        Порог -0.16636061136497707\n",
      "                                                        --> True:\n",
      "                                                          Прогноз: -48.05772884437802\n",
      "                                                        --> False:\n",
      "                                                          Индекс 0\n",
      "                                                          Порог -0.13230195045629967\n",
      "                                                          --> True:\n",
      "                                                            Прогноз: 41.072764986055994\n",
      "                                                          --> False:\n",
      "                                                            Индекс 0\n",
      "                                                            Порог -0.09383244866604305\n",
      "                                                            --> True:\n",
      "                                                              Прогноз: 110.9438799355219\n",
      "                                                            --> False:\n",
      "                                                              Индекс 0\n",
      "                                                              Порог -0.06801344433577157\n",
      "                                                              --> True:\n",
      "                                                                Индекс 0\n",
      "                                                                Порог -0.0848357991956406\n",
      "                                                                --> True:\n",
      "                                                                  Прогноз: -71.37707326807589\n",
      "                                                                --> False:\n",
      "                                                                  Прогноз: 50.12901189619315\n",
      "                                                              --> False:\n",
      "                                                                Индекс 0\n",
      "                                                                Порог -0.05743985983902545\n",
      "                                                                --> True:\n",
      "                                                                  Прогноз: 37.24225941309669\n",
      "                                                                --> False:\n",
      "                                                                  Индекс 0\n",
      "                                                                  Порог -0.0465143952680729\n",
      "                                                                  --> True:\n",
      "                                                                    Прогноз: -43.78614089737506\n",
      "                                                                  --> False:\n",
      "                                                                    Индекс 0\n",
      "                                                                    Порог -0.04087017694338075\n",
      "                                                                    --> True:\n",
      "                                                                      Прогноз: -54.881821005807694\n",
      "                                                                    --> False:\n",
      "                                                                      Индекс 0\n",
      "                                                                      Порог -0.017353268952074445\n",
      "                                                                      --> True:\n",
      "                                                                        Прогноз: -3.810365356118175\n",
      "                                                                      --> False:\n",
      "                                                                        Индекс 0\n",
      "                                                                        Порог 0.02017518052307516\n",
      "                                                                        --> True:\n",
      "                                                                          Прогноз: 36.252336910348866\n",
      "                                                                        --> False:\n",
      "                                                                          Индекс 0\n",
      "                                                                          Порог 0.03376606363924655\n",
      "                                                                          --> True:\n",
      "                                                                            Прогноз: -11.254869735161424\n",
      "                                                                          --> False:\n",
      "                                                                            Индекс 0\n",
      "                                                                            Порог 0.053542328408471264\n",
      "                                                                            --> True:\n",
      "                                                                              Прогноз: -25.265154114315283\n",
      "                                                                            --> False:\n",
      "                                                                              Индекс 0\n",
      "                                                                              Порог 0.07414337771439142\n",
      "                                                                              --> True:\n",
      "                                                                                Прогноз: 59.2867539324871\n",
      "                                                                              --> False:\n",
      "                                                                                Индекс 0\n",
      "                                                                                Порог 0.09958489976611803\n",
      "                                                                                --> True:\n",
      "                                                                                  Прогноз: 96.96430807132093\n",
      "                                                                                --> False:\n",
      "                                                                                  Индекс 0\n",
      "                                                                                  Порог 0.11627967777859918\n",
      "                                                                                  --> True:\n",
      "                                                                                    Прогноз: 24.8201085514798\n",
      "                                                                                  --> False:\n",
      "                                                                                    Индекс 0\n",
      "                                                                                    Порог 0.14082715272159635\n",
      "                                                                                    --> True:\n",
      "                                                                                      Прогноз: -2.1035115633425274\n",
      "                                                                                    --> False:\n",
      "                                                                                      Индекс 0\n",
      "                                                                                      Порог 0.1615050880528472\n",
      "                                                                                      --> True:\n",
      "                                                                                        Прогноз: 27.61885782537872\n",
      "                                                                                      --> False:\n",
      "                                                                                        Индекс 0\n",
      "                                                                                        Порог 0.29311826488950987\n",
      "                                                                                        --> True:\n",
      "                                                                                          Индекс 0\n",
      "                                                                                          Порог 0.17638022492218763\n",
      "                                                                                          --> True:\n",
      "                                                                                            Прогноз: 13.806327200602635\n",
      "                                                                                          --> False:\n",
      "                                                                                            Индекс 0\n",
      "                                                                                            Порог 0.19639885649402458\n",
      "                                                                                            --> True:\n",
      "                                                                                              Прогноз: 96.6360188046606\n",
      "                                                                                            --> False:\n",
      "                                                                                              Индекс 0\n",
      "                                                                                              Порог 0.2091621161267067\n",
      "                                                                                              --> True:\n",
      "                                                                                                Прогноз: 48.018115220414074\n",
      "                                                                                              --> False:\n",
      "                                                                                                Индекс 0\n",
      "                                                                                                Порог 0.23411613132802306\n",
      "                                                                                                --> True:\n",
      "                                                                                                  Прогноз: 127.5924417043316\n",
      "                                                                                                --> False:\n",
      "                                                                                                  Индекс 0\n",
      "                                                                                                  Порог 0.24981731592122017\n",
      "                                                                                                  --> True:\n",
      "                                                                                                    Прогноз: 75.38629455846322\n",
      "                                                                                                  --> False:\n",
      "                                                                                                    Прогноз: -55.16100982660481\n",
      "                                                                                        --> False:\n",
      "                                                                                          Индекс 0\n",
      "                                                                                          Порог 0.45765807158631955\n",
      "                                                                                          --> True:\n",
      "                                                                                            Индекс 0\n",
      "                                                                                            Порог 0.3250548201907884\n",
      "                                                                                            --> True:\n",
      "                                                                                              Прогноз: 21.04918342513226\n",
      "                                                                                            --> False:\n",
      "                                                                                              Индекс 0\n",
      "                                                                                              Порог 0.336297778982035\n",
      "                                                                                              --> True:\n",
      "                                                                                                Прогноз: -63.609371153528556\n",
      "                                                                                              --> False:\n",
      "                                                                                                Индекс 0\n",
      "                                                                                                Порог 0.3700738819838496\n",
      "                                                                                                --> True:\n",
      "                                                                                                  Прогноз: 28.431557200324878\n",
      "                                                                                                --> False:\n",
      "                                                                                                  Индекс 0\n",
      "                                                                                                  Порог 0.4126739298805429\n",
      "                                                                                                  --> True:\n",
      "                                                                                                    Индекс 0\n",
      "                                                                                                    Порог 0.38547989325078796\n",
      "                                                                                                    --> True:\n",
      "                                                                                                      Прогноз: 1.823727476329573\n",
      "                                                                                                    --> False:\n",
      "                                                                                                      Прогноз: 106.66852713303483\n",
      "                                                                                                  --> False:\n",
      "                                                                                                    Индекс 0\n",
      "                                                                                                    Порог 0.4320117625576069\n",
      "                                                                                                    --> True:\n",
      "                                                                                                      Прогноз: 161.54348097641147\n",
      "                                                                                                    --> False:\n",
      "                                                                                                      Прогноз: 145.2026488895343\n",
      "                                                                                          --> False:\n",
      "                                                                                            Индекс 0\n",
      "                                                                                            Порог 0.47986292109623435\n",
      "                                                                                            --> True:\n",
      "                                                                                              Прогноз: -32.06939959427443\n",
      "                                                                                            --> False:\n",
      "                                                                                              Индекс 0\n",
      "                                                                                              Порог 0.49355766095142994\n",
      "                                                                                              --> True:\n",
      "                                                                                                Прогноз: 56.99920859643141\n",
      "                                                                                              --> False:\n",
      "                                                                                                Индекс 0\n",
      "                                                                                                Порог 0.7299598177268846\n",
      "                                                                                                --> True:\n",
      "                                                                                                  Индекс 0\n",
      "                                                                                                  Порог 0.49969102158747963\n",
      "                                                                                                  --> True:\n",
      "                                                                                                    Прогноз: 72.93129332804895\n",
      "                                                                                                  --> False:\n",
      "                                                                                                    Индекс 0\n",
      "                                                                                                    Порог 0.5221592953567665\n",
      "                                                                                                    --> True:\n",
      "                                                                                                      Прогноз: 22.335743293727766\n",
      "                                                                                                    --> False:\n",
      "                                                                                                      Индекс 0\n",
      "                                                                                                      Порог 0.5351551526217296\n",
      "                                                                                                      --> True:\n",
      "                                                                                                        Прогноз: 8.86682950000019\n",
      "                                                                                                      --> False:\n",
      "                                                                                                        Индекс 0\n",
      "                                                                                                        Порог 0.568132717730888\n",
      "                                                                                                        --> True:\n",
      "                                                                                                          Прогноз: 91.83740177647006\n",
      "                                                                                                        --> False:\n",
      "                                                                                                          Индекс 0\n",
      "                                                                                                          Порог 0.5806024098925451\n",
      "                                                                                                          --> True:\n",
      "                                                                                                            Прогноз: 30.91683045184609\n",
      "                                                                                                          --> False:\n",
      "                                                                                                            Индекс 0\n",
      "                                                                                                            Порог 0.6088842688337636\n",
      "                                                                                                            --> True:\n",
      "                                                                                                              Прогноз: -19.1694141983322\n",
      "                                                                                                            --> False:\n",
      "                                                                                                              Индекс 0\n",
      "                                                                                                              Порог 0.6528930147774489\n",
      "                                                                                                              --> True:\n",
      "                                                                                                                Прогноз: 67.26737200780035\n",
      "                                                                                                              --> False:\n",
      "                                                                                                                Индекс 0\n",
      "                                                                                                                Порог 0.6871199336657926\n",
      "                                                                                                                --> True:\n",
      "                                                                                                                  Прогноз: 85.88200454947113\n",
      "                                                                                                                --> False:\n",
      "                                                                                                                  Прогноз: 90.47314147227749\n",
      "                                                                                                --> False:\n",
      "                                                                                                  Индекс 0\n",
      "                                                                                                  Порог 0.7610253384174932\n",
      "                                                                                                  --> True:\n",
      "                                                                                                    Прогноз: 60.158213368251985\n",
      "                                                                                                  --> False:\n",
      "                                                                                                    Индекс 0\n",
      "                                                                                                    Порог 0.7792603519294811\n",
      "                                                                                                    --> True:\n",
      "                                                                                                      Прогноз: -4.4900592803927495\n",
      "                                                                                                    --> False:\n",
      "                                                                                                      Индекс 0\n",
      "                                                                                                      Порог 0.8126333812363487\n",
      "                                                                                                      --> True:\n",
      "                                                                                                        Прогноз: 12.144729629745633\n",
      "                                                                                                      --> False:\n",
      "                                                                                                        Индекс 0\n",
      "                                                                                                        Порог 0.8385573116483224\n",
      "                                                                                                        --> True:\n",
      "                                                                                                          Прогноз: 67.37181215839188\n",
      "                                                                                                        --> False:\n",
      "                                                                                                          Индекс 0\n",
      "                                                                                                          Порог 0.8805501040855753\n",
      "                                                                                                          --> True:\n",
      "                                                                                                            Прогноз: 125.35172313651199\n",
      "                                                                                                          --> False:\n",
      "                                                                                                            Индекс 0\n",
      "                                                                                                            Порог 0.9024795228465925\n",
      "                                                                                                            --> True:\n",
      "                                                                                                              Прогноз: 46.93872372353758\n",
      "                                                                                                            --> False:\n",
      "                                                                                                              Индекс 0\n",
      "                                                                                                              Порог 0.9248473573232254\n",
      "                                                                                                              --> True:\n",
      "                                                                                                                Прогноз: -10.98888289853629\n",
      "                                                                                                              --> False:\n",
      "                                                                                                                Индекс 0\n",
      "                                                                                                                Порог 0.9503447080453289\n",
      "                                                                                                                --> True:\n",
      "                                                                                                                  Прогноз: 143.52750897365974\n",
      "                                                                                                                --> False:\n",
      "                                                                                                                  Индекс 0\n",
      "                                                                                                                  Порог 1.1389132593516353\n",
      "                                                                                                                  --> True:\n",
      "                                                                                                                    Индекс 0\n",
      "                                                                                                                    Порог 0.9848292171973758\n",
      "                                                                                                                    --> True:\n",
      "                                                                                                                      Прогноз: 26.71148033898976\n",
      "                                                                                                                    --> False:\n",
      "                                                                                                                      Индекс 0\n",
      "                                                                                                                      Порог 1.0077965714377337\n",
      "                                                                                                                      --> True:\n",
      "                                                                                                                        Прогноз: -52.46142329851393\n",
      "                                                                                                                      --> False:\n",
      "                                                                                                                        Индекс 0\n",
      "                                                                                                                        Порог 1.0623538292391501\n",
      "                                                                                                                        --> True:\n",
      "                                                                                                                          Прогноз: 83.10396337658372\n",
      "                                                                                                                        --> False:\n",
      "                                                                                                                          Индекс 0\n",
      "                                                                                                                          Порог 1.1058259766472325\n",
      "                                                                                                                          --> True:\n",
      "                                                                                                                            Прогноз: 52.0577199405043\n",
      "                                                                                                                          --> False:\n",
      "                                                                                                                            Прогноз: -5.693761710069467\n",
      "                                                                                                                  --> False:\n",
      "                                                                                                                    Индекс 0\n",
      "                                                                                                                    Порог 1.2570211656805685\n",
      "                                                                                                                    --> True:\n",
      "                                                                                                                      Индекс 0\n",
      "                                                                                                                      Порог 1.1467286284314107\n",
      "                                                                                                                      --> True:\n",
      "                                                                                                                        Прогноз: 71.40922238219886\n",
      "                                                                                                                      --> False:\n",
      "                                                                                                                        Индекс 0\n",
      "                                                                                                                        Порог 1.1848953628732355\n",
      "                                                                                                                        --> True:\n",
      "                                                                                                                          Прогноз: 53.37057407609507\n",
      "                                                                                                                        --> False:\n",
      "                                                                                                                          Индекс 0\n",
      "                                                                                                                          Порог 1.1946000177666156\n",
      "                                                                                                                          --> True:\n",
      "                                                                                                                            Прогноз: 87.59802589616143\n",
      "                                                                                                                          --> False:\n",
      "                                                                                                                            Прогноз: -16.86708035070312\n",
      "                                                                                                                    --> False:\n",
      "                                                                                                                      Индекс 0\n",
      "                                                                                                                      Порог 1.3108463311373149\n",
      "                                                                                                                      --> True:\n",
      "                                                                                                                        Прогноз: 138.90437325004174\n",
      "                                                                                                                      --> False:\n",
      "                                                                                                                        Индекс 0\n",
      "                                                                                                                        Порог 1.3430605856366309\n",
      "                                                                                                                        --> True:\n",
      "                                                                                                                          Прогноз: 105.23127716706908\n",
      "                                                                                                                        --> False:\n",
      "                                                                                                                          Индекс 0\n",
      "                                                                                                                          Порог 1.4429500100967874\n",
      "                                                                                                                          --> True:\n",
      "                                                                                                                            Индекс 0\n",
      "                                                                                                                            Порог 1.3614230252643376\n",
      "                                                                                                                            --> True:\n",
      "                                                                                                                              Прогноз: 60.27931516682613\n",
      "                                                                                                                            --> False:\n",
      "                                                                                                                              Индекс 0\n",
      "                                                                                                                              Порог 1.3739334861897188\n",
      "                                                                                                                              --> True:\n",
      "                                                                                                                                Прогноз: 130.47996640166403\n",
      "                                                                                                                              --> False:\n",
      "                                                                                                                                Прогноз: 100.4899523394152\n",
      "                                                                                                                          --> False:\n",
      "                                                                                                                            Индекс 0\n",
      "                                                                                                                            Порог 1.4896875956260933\n",
      "                                                                                                                            --> True:\n",
      "                                                                                                                              Прогноз: 127.97487640348722\n",
      "                                                                                                                            --> False:\n",
      "                                                                                                                              Индекс 0\n",
      "                                                                                                                              Порог 1.5912962935225439\n",
      "                                                                                                                              --> True:\n",
      "                                                                                                                                Прогноз: 98.31086508337533\n",
      "                                                                                                                              --> False:\n",
      "                                                                                                                                Индекс 0\n",
      "                                                                                                                                Порог 1.853721080835546\n",
      "                                                                                                                                --> True:\n",
      "                                                                                                                                  Индекс 0\n",
      "                                                                                                                                  Порог 1.6480340206711754\n",
      "                                                                                                                                  --> True:\n",
      "                                                                                                                                    Прогноз: 38.20754786026116\n",
      "                                                                                                                                  --> False:\n",
      "                                                                                                                                    Индекс 0\n",
      "                                                                                                                                    Порог 1.7384488142376797\n",
      "                                                                                                                                    --> True:\n",
      "                                                                                                                                      Прогноз: 160.95545442469532\n",
      "                                                                                                                                    --> False:\n",
      "                                                                                                                                      Прогноз: 89.73377908833403\n",
      "                                                                                                                                --> False:\n",
      "                                                                                                                                  Индекс 0\n",
      "                                                                                                                                  Порог 2.1391656582903416\n",
      "                                                                                                                                  --> True:\n",
      "                                                                                                                                    Прогноз: 166.95757894637643\n",
      "                                                                                                                                  --> False:\n",
      "                                                                                                                                    Прогноз: 137.55645360690275\n"
     ]
    }
   ],
   "source": [
    "my_tree = build_tree(train_data, train_labels)\n",
    "print_tree(my_tree)"
   ]
  },
  {
   "cell_type": "code",
   "execution_count": 34,
   "id": "087f8525",
   "metadata": {},
   "outputs": [
    {
     "data": {
      "text/plain": [
       "[67.37181215839188,\n",
       " 48.018115220414074,\n",
       " 53.71175000754268,\n",
       " 41.072764986055994,\n",
       " 91.83740177647006]"
      ]
     },
     "execution_count": 34,
     "metadata": {},
     "output_type": "execute_result"
    }
   ],
   "source": [
    "# Получим ответы для обучающей выборки \n",
    "train_answers = predict(train_data, my_tree)\n",
    "train_answers[:5]"
   ]
  },
  {
   "cell_type": "code",
   "execution_count": 35,
   "id": "811b4bc1",
   "metadata": {},
   "outputs": [],
   "source": [
    "# И получим ответы для тестовой выборки\n",
    "answers = predict(test_data, my_tree)"
   ]
  },
  {
   "cell_type": "code",
   "execution_count": 36,
   "id": "6f930222",
   "metadata": {},
   "outputs": [
    {
     "data": {
      "image/png": "[encoded data removed]",
      "text/plain": [
       "<Figure size 1152x432 with 1 Axes>"
      ]
     },
     "metadata": {
      "needs_background": "light"
     },
     "output_type": "display_data"
    }
   ],
   "source": [
    "plt.figure(figsize=(16,6))\n",
    "plt.plot(train_data[:,0], train_labels, '.')\n",
    "plt.plot(train_data[:,0], train_answers, 'ob')\n",
    "plt.grid(True)"
   ]
  },
  {
   "cell_type": "code",
   "execution_count": 37,
   "id": "2fca17d8",
   "metadata": {},
   "outputs": [
    {
     "data": {
      "image/png": "[encoded data removed]",
      "text/plain": [
       "<Figure size 1152x432 with 1 Axes>"
      ]
     },
     "metadata": {
      "needs_background": "light"
     },
     "output_type": "display_data"
    }
   ],
   "source": [
    "plt.figure(figsize=(16,6))\n",
    "plt.plot(test_data[:,0], test_labels, '.')\n",
    "plt.plot(test_data[:,0], answers, 'ob')\n",
    "plt.grid(True)"
   ]
  },
  {
   "cell_type": "code",
   "execution_count": null,
   "id": "a1197892",
   "metadata": {},
   "outputs": [],
   "source": []
  }
 ],
 "metadata": {
  "kernelspec": {
   "display_name": "Python 3 (ipykernel)",
   "language": "python",
   "name": "python3"
  },
  "language_info": {
   "codemirror_mode": {
    "name": "ipython",
    "version": 3
   },
   "file_extension": ".py",
   "mimetype": "text/x-python",
   "name": "python",
   "nbconvert_exporter": "python",
   "pygments_lexer": "ipython3",
   "version": "3.9.6"
  }
 },
 "nbformat": 4,
 "nbformat_minor": 5
}
