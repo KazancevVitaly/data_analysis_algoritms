{
 "cells": [
  {
   "cell_type": "markdown",
   "metadata": {
    "id": "-h6E40fAWNJT"
   },
   "source": [
    "# GeekBrains\n",
    "# Алгоритмы анализа данных\n",
    "## ДЗ Урока3\n",
    "## Казанцев Виталий\n",
    "## Практическое задание"
   ]
  },
  {
   "cell_type": "markdown",
   "metadata": {},
   "source": [
    "1. Измените функцию calc_logloss так, чтобы нули по возможности не попадали в np.log.\n",
    "2. Подберите аргументы функции eval_model для логистической регрессии таким образом, чтобы log loss был минимальным.\n",
    "3. Создайте функцию calc_pred_proba, возвращающую предсказанную вероятность класса 1. На вход подаётся W, который уже посчитан функцией eval_model, и X, на выходе — массив y_pred_proba.\n",
    "4. Создайте функцию calc_pred, возвращающую предсказанный класс. На вход подаётся W, который уже посчитан функцией eval_model, и X, на выходе — массив y_pred.\n",
    "5. Посчитайте Accuracy, матрицу ошибок, точность и полноту, а также F1 score.\n",
    "6. Могла ли модель переобучиться? Почему?"
   ]
  },
  {
   "cell_type": "code",
   "execution_count": 1,
   "metadata": {
    "id": "zhwkeWtb1O0w"
   },
   "outputs": [],
   "source": [
    "import numpy as np\n",
    "import matplotlib.pyplot as plt\n",
    "from sklearn.metrics import accuracy_score, confusion_matrix, recall_score, precision_score, f1_score"
   ]
  },
  {
   "cell_type": "code",
   "execution_count": 2,
   "metadata": {
    "id": "FeKFn2yb1To4"
   },
   "outputs": [],
   "source": [
    "X = np.array([[1, 1, 1, 1, 1, 1, 1, 1, 1, 1],\n",
    "              [1, 1, 2, 5, 3, 0, 5, 10, 1, 2],\n",
    "              [500, 700, 750, 600, 1450, 800, 1500, 2000, 450, 1000],\n",
    "              [1, 1, 2, 1, 2,  1, 3, 3, 1, 2]], dtype = np.float64)\n",
    "y = np.array([0, 0, 1, 0, 1, 0, 1, 0, 1, 1], dtype = np.float64)"
   ]
  },
  {
   "cell_type": "code",
   "execution_count": 3,
   "metadata": {
    "colab": {
     "base_uri": "https://localhost:8080/",
     "height": 155
    },
    "id": "yXSj4nbxHsFd",
    "outputId": "8d102d54-94bf-4acc-d5b8-d60da152b953"
   },
   "outputs": [
    {
     "data": {
      "text/plain": [
       "array([[1.00e+00, 1.00e+00, 1.00e+00, 1.00e+00, 1.00e+00, 1.00e+00,\n",
       "        1.00e+00, 1.00e+00, 1.00e+00, 1.00e+00],\n",
       "       [1.00e+00, 1.00e+00, 2.00e+00, 5.00e+00, 3.00e+00, 0.00e+00,\n",
       "        5.00e+00, 1.00e+01, 1.00e+00, 2.00e+00],\n",
       "       [5.00e+02, 7.00e+02, 7.50e+02, 6.00e+02, 1.45e+03, 8.00e+02,\n",
       "        1.50e+03, 2.00e+03, 4.50e+02, 1.00e+03],\n",
       "       [1.00e+00, 1.00e+00, 2.00e+00, 1.00e+00, 2.00e+00, 1.00e+00,\n",
       "        3.00e+00, 3.00e+00, 1.00e+00, 2.00e+00]])"
      ]
     },
     "execution_count": 3,
     "metadata": {},
     "output_type": "execute_result"
    }
   ],
   "source": [
    "X"
   ]
  },
  {
   "cell_type": "code",
   "execution_count": 4,
   "metadata": {
    "colab": {
     "base_uri": "https://localhost:8080/",
     "height": 34
    },
    "id": "QU0A16vZHugZ",
    "outputId": "71d74b95-77f4-41a7-e339-c9e7b2004e4b"
   },
   "outputs": [
    {
     "data": {
      "text/plain": [
       "array([0., 0., 1., 0., 1., 0., 1., 0., 1., 1.])"
      ]
     },
     "execution_count": 4,
     "metadata": {},
     "output_type": "execute_result"
    }
   ],
   "source": [
    "y"
   ]
  },
  {
   "cell_type": "code",
   "execution_count": 5,
   "metadata": {
    "id": "M-aO1NTxOUfo"
   },
   "outputs": [],
   "source": [
    "def calc_std_feat(x):\n",
    "    res = (x - x.mean()) / x.std()\n",
    "    return res"
   ]
  },
  {
   "cell_type": "code",
   "execution_count": 6,
   "metadata": {
    "id": "D8EL0iGJOVpe"
   },
   "outputs": [],
   "source": [
    "X_st = X.copy()\n",
    "X_st[2, :] = calc_std_feat(X[2, :])"
   ]
  },
  {
   "cell_type": "code",
   "execution_count": 7,
   "metadata": {
    "colab": {
     "base_uri": "https://localhost:8080/",
     "height": 155
    },
    "id": "gviMxz7EOuI3",
    "outputId": "af9a2576-f4d7-41d7-e216-46e0a068cfad",
    "scrolled": true
   },
   "outputs": [
    {
     "data": {
      "text/plain": [
       "array([[ 1.        ,  1.        ,  1.        ,  1.        ,  1.        ,\n",
       "         1.        ,  1.        ,  1.        ,  1.        ,  1.        ],\n",
       "       [ 1.        ,  1.        ,  2.        ,  5.        ,  3.        ,\n",
       "         0.        ,  5.        , 10.        ,  1.        ,  2.        ],\n",
       "       [-0.97958969, -0.56713087, -0.46401617, -0.77336028,  0.97958969,\n",
       "        -0.36090146,  1.08270439,  2.11385144, -1.08270439,  0.05155735],\n",
       "       [ 1.        ,  1.        ,  2.        ,  1.        ,  2.        ,\n",
       "         1.        ,  3.        ,  3.        ,  1.        ,  2.        ]])"
      ]
     },
     "execution_count": 7,
     "metadata": {},
     "output_type": "execute_result"
    }
   ],
   "source": [
    "X_st"
   ]
  },
  {
   "cell_type": "markdown",
   "metadata": {},
   "source": [
    "__1.__  \n",
    "Измените функцию calc_logloss так, чтобы нули по возможности не попадали в np.log."
   ]
  },
  {
   "cell_type": "code",
   "execution_count": 8,
   "metadata": {
    "id": "qMR5pOA38dDw"
   },
   "outputs": [],
   "source": [
    "# def calc_logloss(y, y_pred):\n",
    "#     err = - np.mean(y * np.log(y_pred) + (1.0 - y) * np.log(1.0 - y_pred))  \n",
    "#     err = np.sum(err)\n",
    "#     return err"
   ]
  },
  {
   "cell_type": "markdown",
   "metadata": {},
   "source": [
    "https://pythonim.ru/libraries/kak-ispolzovat-metod-numpy-where-v-python?"
   ]
  },
  {
   "cell_type": "code",
   "execution_count": 9,
   "metadata": {},
   "outputs": [],
   "source": [
    "def calc_logloss(y, y_pred):\n",
    "    y_pred_new = np.where(y_pred == 1, y_pred - 1e-7, np.where(y_pred == 0, y_pred + 1e+7, y_pred))\n",
    "    err = - np.mean(y * np.log(y_pred) + (1.0 - y) * np.log(1.0 - y_pred))  \n",
    "    err = np.sum(err)    \n",
    "    return err"
   ]
  },
  {
   "cell_type": "code",
   "execution_count": 10,
   "metadata": {
    "colab": {
     "base_uri": "https://localhost:8080/",
     "height": 34
    },
    "id": "R6zfOHMrBvnX",
    "outputId": "46df0625-963f-4401-da30-b5b42bcf1be7"
   },
   "outputs": [
    {
     "data": {
      "text/plain": [
       "0.10536051565782628"
      ]
     },
     "execution_count": 10,
     "metadata": {},
     "output_type": "execute_result"
    }
   ],
   "source": [
    "# Пример применения\n",
    "y1 = np.array([1, 0])\n",
    "y_pred1 = np.array([0.9, 0.1])\n",
    "calc_logloss(y1, y_pred1)"
   ]
  },
  {
   "cell_type": "code",
   "execution_count": 11,
   "metadata": {
    "id": "EEF9rWPNDnss"
   },
   "outputs": [],
   "source": [
    "def sigmoid(z):\n",
    "    res = 1 / (1 + np.exp(-z))\n",
    "    return res"
   ]
  },
  {
   "cell_type": "code",
   "execution_count": 12,
   "metadata": {
    "id": "_9tN8lBEEeXU"
   },
   "outputs": [],
   "source": [
    "z = np.linspace(-10, 10, 101)"
   ]
  },
  {
   "cell_type": "code",
   "execution_count": 13,
   "metadata": {
    "id": "nvIe3RpbEp4l"
   },
   "outputs": [
    {
     "data": {
      "text/plain": [
       "array([4.53978687e-05, 5.54485247e-05, 6.77241496e-05, 8.27172229e-05,\n",
       "       1.01029194e-04, 1.23394576e-04, 1.50710358e-04, 1.84071905e-04,\n",
       "       2.24816770e-04, 2.74578156e-04, 3.35350130e-04, 4.09567165e-04,\n",
       "       5.00201107e-04, 6.10879359e-04, 7.46028834e-04, 9.11051194e-04,\n",
       "       1.11253603e-03, 1.35851995e-03, 1.65880108e-03, 2.02532039e-03,\n",
       "       2.47262316e-03, 3.01841632e-03, 3.68423990e-03, 4.49627316e-03,\n",
       "       5.48629890e-03, 6.69285092e-03, 8.16257115e-03, 9.95180187e-03,\n",
       "       1.21284350e-02, 1.47740317e-02, 1.79862100e-02, 2.18812709e-02,\n",
       "       2.65969936e-02, 3.22954647e-02, 3.91657228e-02, 4.74258732e-02,\n",
       "       5.73241759e-02, 6.91384203e-02, 8.31726965e-02, 9.97504891e-02,\n",
       "       1.19202922e-01, 1.41851065e-01, 1.67981615e-01, 1.97816111e-01,\n",
       "       2.31475217e-01, 2.68941421e-01, 3.10025519e-01, 3.54343694e-01,\n",
       "       4.01312340e-01, 4.50166003e-01, 5.00000000e-01, 5.49833997e-01,\n",
       "       5.98687660e-01, 6.45656306e-01, 6.89974481e-01, 7.31058579e-01,\n",
       "       7.68524783e-01, 8.02183889e-01, 8.32018385e-01, 8.58148935e-01,\n",
       "       8.80797078e-01, 9.00249511e-01, 9.16827304e-01, 9.30861580e-01,\n",
       "       9.42675824e-01, 9.52574127e-01, 9.60834277e-01, 9.67704535e-01,\n",
       "       9.73403006e-01, 9.78118729e-01, 9.82013790e-01, 9.85225968e-01,\n",
       "       9.87871565e-01, 9.90048198e-01, 9.91837429e-01, 9.93307149e-01,\n",
       "       9.94513701e-01, 9.95503727e-01, 9.96315760e-01, 9.96981584e-01,\n",
       "       9.97527377e-01, 9.97974680e-01, 9.98341199e-01, 9.98641480e-01,\n",
       "       9.98887464e-01, 9.99088949e-01, 9.99253971e-01, 9.99389121e-01,\n",
       "       9.99499799e-01, 9.99590433e-01, 9.99664650e-01, 9.99725422e-01,\n",
       "       9.99775183e-01, 9.99815928e-01, 9.99849290e-01, 9.99876605e-01,\n",
       "       9.99898971e-01, 9.99917283e-01, 9.99932276e-01, 9.99944551e-01,\n",
       "       9.99954602e-01])"
      ]
     },
     "execution_count": 13,
     "metadata": {},
     "output_type": "execute_result"
    }
   ],
   "source": [
    "probabilities = sigmoid(z)\n",
    "probabilities"
   ]
  },
  {
   "cell_type": "code",
   "execution_count": 14,
   "metadata": {
    "colab": {
     "base_uri": "https://localhost:8080/",
     "height": 283
    },
    "id": "jQsCfht0Et1V",
    "outputId": "0c11fcdd-1cf9-49db-aaa7-4fa520ff840a"
   },
   "outputs": [
    {
     "data": {
      "image/png": "[encoded data removed]",
      "text/plain": [
       "<Figure size 432x288 with 1 Axes>"
      ]
     },
     "metadata": {
      "needs_background": "light"
     },
     "output_type": "display_data"
    }
   ],
   "source": [
    "plt.plot(z, probabilities)\n",
    "plt.show()"
   ]
  },
  {
   "cell_type": "markdown",
   "metadata": {
    "id": "e6TH-mkPItb6"
   },
   "source": [
    "__Logistic Regression__"
   ]
  },
  {
   "cell_type": "markdown",
   "metadata": {},
   "source": [
    "__2.__  \n",
    "Подберите аргументы функции eval_model для логистической регрессии таким образом, чтобы log loss был минимальным."
   ]
  },
  {
   "cell_type": "code",
   "execution_count": 15,
   "metadata": {
    "id": "qtgUN3LW-UIq"
   },
   "outputs": [],
   "source": [
    "def eval_model(X, y, iterations, alpha=1e-4):\n",
    "    np.random.seed(42)\n",
    "    W = np.random.randn(X.shape[0])\n",
    "    n = X.shape[1]\n",
    "    for i in range(1, iterations+1):\n",
    "        z = np.dot(W, X)\n",
    "        y_pred = sigmoid(z)\n",
    "        err = calc_logloss(y, y_pred)\n",
    "        W -= alpha * (1/n * np.dot((y_pred - y), X.T))\n",
    "        if i % (iterations / 10) == 0:\n",
    "            print(i, W, err)\n",
    "    return W"
   ]
  },
  {
   "cell_type": "code",
   "execution_count": 16,
   "metadata": {},
   "outputs": [],
   "source": [
    "def eval_model_new(X, y, alpha=1e-4, min_error_dist=1e-5, outp_log=False):\n",
    "    np.random.seed(42)\n",
    "    W = np.random.randn(X.shape[0])\n",
    "    n = X.shape[1]\n",
    "    iter_num = 0\n",
    "    error_dist = np.inf\n",
    "    min_err = np.inf\n",
    "    errors = []\n",
    "    outp_index = 10**(-np.log10(min_error_dist)-2) if -np.log10(min_error_dist)-2>=1 else 1\n",
    "    while error_dist > min_error_dist:    \n",
    "        z = np.dot(W, X)\n",
    "        y_pred = sigmoid(z)\n",
    "        err = calc_logloss(y, y_pred)\n",
    "        errors.append(err)\n",
    "        error_dist = min_err - err\n",
    "        if error_dist > min_error_dist:\n",
    "            min_err = err\n",
    "        W -= alpha * (1/n * np.dot((y_pred - y), X.T))\n",
    "        iter_num += 1\n",
    "        if outp_log:\n",
    "            if iter_num % outp_index == 0:\n",
    "                print(iter_num, W, err)\n",
    "    if outp_log:\n",
    "        print(iter_num, W, err)\n",
    "    return W, min_err, iter_num"
   ]
  },
  {
   "cell_type": "code",
   "execution_count": 17,
   "metadata": {
    "colab": {
     "base_uri": "https://localhost:8080/",
     "height": 190
    },
    "id": "oqX7loklBmYZ",
    "outputId": "f4849295-1f14-40d8-c8f2-d1b002e130c5",
    "scrolled": false
   },
   "outputs": [
    {
     "name": "stdout",
     "output_type": "stream",
     "text": [
      "500 [ 0.47822106 -0.20918419  0.64605995  1.49531432] 1.0559639161585663\n",
      "1000 [ 0.46074241 -0.27647603  0.64395686  1.46891696] 0.945214871179169\n",
      "1500 [ 0.44435675 -0.33951515  0.64152026  1.44406912] 0.8478360281905125\n",
      "2000 [ 0.42913461 -0.39751872  0.63899625  1.42106251] 0.765117774502237\n",
      "2500 [ 0.41513888 -0.44956784  0.63671032  1.40023024] 0.6981293270105478\n",
      "3000 [ 0.40240136 -0.49488241  0.63498247  1.38184975] 0.6468813805442177\n",
      "3500 [ 0.39088925 -0.53321212  0.63401986  1.36601535] 0.6097021563515638\n",
      "4000 [ 0.38049869 -0.56497213  0.63387116  1.35259671] 0.5836774145473647\n",
      "4500 [ 0.37108342 -0.59102182  0.63446603  1.3413119 ] 0.5657147376221167\n",
      "5000 [ 0.36249064 -0.61234585  0.63568321  1.33183158] 0.553273778823678\n"
     ]
    }
   ],
   "source": [
    "W = eval_model(X_st, y, iterations=5000, alpha=1e-4)"
   ]
  },
  {
   "cell_type": "code",
   "execution_count": 18,
   "metadata": {
    "scrolled": false
   },
   "outputs": [
    {
     "name": "stdout",
     "output_type": "stream",
     "text": [
      "1000 [ 0.46074241 -0.27647603  0.64395686  1.46891696] 0.945214871179169\n",
      "2000 [ 0.42913461 -0.39751872  0.63899625  1.42106251] 0.765117774502237\n",
      "3000 [ 0.40240136 -0.49488241  0.63498247  1.38184975] 0.6468813805442177\n",
      "4000 [ 0.38049869 -0.56497213  0.63387116  1.35259671] 0.5836774145473647\n",
      "5000 [ 0.36249064 -0.61234585  0.63568321  1.33183158] 0.553273778823678\n",
      "6000 [ 0.34724493 -0.64428604  0.63950214  1.31709536] 0.5382699679862313\n",
      "6102 [ 0.34580919 -0.6469109   0.63997103  1.31584938] 0.537218051218537\n"
     ]
    }
   ],
   "source": [
    "W_new = eval_model_new(X_st, y, alpha=1e-4, outp_log=True)"
   ]
  },
  {
   "cell_type": "code",
   "execution_count": 19,
   "metadata": {},
   "outputs": [],
   "source": [
    "def get_alpha(X, y, alphas):\n",
    "    alphas_list=[]\n",
    "    for alpha in alphas:\n",
    "        W,err,n_iter = eval_model_new(X, y, alpha=alpha)\n",
    "        alphas_list.append((alpha,err,n_iter))\n",
    "    alphas_list.sort(key=lambda x:x[1])\n",
    "    print(f'best - alpha: {alphas_list[0][0]},\\nresults:\\nerr: {alphas_list[0][1]},\\nn_iter: {alphas_list[0][2]}')\n",
    "    return alphas_list[0]"
   ]
  },
  {
   "cell_type": "code",
   "execution_count": 39,
   "metadata": {},
   "outputs": [
    {
     "name": "stdout",
     "output_type": "stream",
     "text": [
      "best - alpha: 0.5,\n",
      "results:\n",
      "err: 0.17451429964096335,\n",
      "n_iter: 5588\n"
     ]
    },
    {
     "data": {
      "text/plain": [
       "(0.5, 0.17451429964096335, 5588)"
      ]
     },
     "execution_count": 39,
     "metadata": {},
     "output_type": "execute_result"
    }
   ],
   "source": [
    "alphas=[\n",
    "    1, 0.5,0.1,0.05, 0.01, 0.005, 0.001, 0.0005, 0.0001, 0.00005, 0.00001, 0.000005, 0.000001, 0.0000005, 0.0000001\n",
    "]\n",
    "get_alpha(X_st, y, alphas)"
   ]
  },
  {
   "cell_type": "code",
   "execution_count": 20,
   "metadata": {},
   "outputs": [
    {
     "name": "stdout",
     "output_type": "stream",
     "text": [
      "best - alpha: 0.6,\n",
      "results:\n",
      "err: 0.16583588446774875,\n",
      "n_iter: 5449\n"
     ]
    },
    {
     "data": {
      "text/plain": [
       "(0.6, 0.16583588446774875, 5449)"
      ]
     },
     "execution_count": 20,
     "metadata": {},
     "output_type": "execute_result"
    }
   ],
   "source": [
    "alphas=np.arange(1,10)/10\n",
    "get_alpha(X_st, y, alphas)"
   ]
  },
  {
   "cell_type": "code",
   "execution_count": 21,
   "metadata": {},
   "outputs": [
    {
     "name": "stdout",
     "output_type": "stream",
     "text": [
      "1000 [-8.22705654 -1.19179224 -1.63103389  7.14617725] 0.2597559875895107\n",
      "2000 [-11.81693228  -1.47202752  -2.74842535   9.99506855] 0.22216059780510222\n",
      "3000 [-14.60325068  -1.70958893  -3.58457685  12.24861365] 0.19942508537234377\n",
      "4000 [-16.96660182  -1.91673038  -4.28184084  14.16798183] 0.18306205104868467\n",
      "5000 [-19.03415014  -2.10036075  -4.88520289  15.84885732] 0.17054733057426585\n",
      "5449 [-19.88574828  -2.17646118  -5.13220561  16.54128089] 0.1658258860176014\n"
     ]
    }
   ],
   "source": [
    "W_new = eval_model_new(X_st, y, alpha=0.6, outp_log=True)"
   ]
  },
  {
   "cell_type": "markdown",
   "metadata": {},
   "source": [
    "__3.__  \n",
    "Создайте функцию calc_pred_proba, возвращающую предсказанную вероятность класса 1. На вход подаётся W, который уже посчитан функцией eval_model, и X, на выходе — массив y_pred_proba."
   ]
  },
  {
   "cell_type": "code",
   "execution_count": 22,
   "metadata": {
    "id": "jp0AQlnkRBWC"
   },
   "outputs": [],
   "source": [
    "def calc_pred_proba(w, x):\n",
    "    z = np.dot(w, x)\n",
    "    y_pred_proba = sigmoid(z)\n",
    "    return y_pred_proba"
   ]
  },
  {
   "cell_type": "code",
   "execution_count": 23,
   "metadata": {},
   "outputs": [
    {
     "data": {
      "text/plain": [
       "array([0.61284043, 0.67292861, 0.81854116, 0.13481741, 0.85958229,\n",
       "       0.81228146, 0.87916144, 0.39610207, 0.59717774, 0.86226561])"
      ]
     },
     "execution_count": 23,
     "metadata": {},
     "output_type": "execute_result"
    }
   ],
   "source": [
    "y_pred_prob = calc_pred_proba(W, X_st)\n",
    "y_pred_prob"
   ]
  },
  {
   "cell_type": "code",
   "execution_count": 24,
   "metadata": {
    "scrolled": true
   },
   "outputs": [
    {
     "data": {
      "text/plain": [
       "array([3.79075791e-01, 6.84786993e-02, 9.99986668e-01, 3.50840343e-05,\n",
       "       8.37531436e-01, 1.83584725e-01, 9.99998324e-01, 5.33913207e-02,\n",
       "       5.08932298e-01, 9.99812077e-01])"
      ]
     },
     "execution_count": 24,
     "metadata": {},
     "output_type": "execute_result"
    }
   ],
   "source": [
    "y_pred_prob = calc_pred_proba(W_new[0], X_st)\n",
    "y_pred_prob"
   ]
  },
  {
   "cell_type": "markdown",
   "metadata": {},
   "source": [
    "__4.__  \n",
    "Создайте функцию calc_pred, возвращающую предсказанный класс. На вход подаётся W, который уже посчитан функцией eval_model, и X, на выходе — массив y_pred."
   ]
  },
  {
   "cell_type": "code",
   "execution_count": 25,
   "metadata": {},
   "outputs": [],
   "source": [
    "def calc_pred(W, X):\n",
    "    pred_proba = sigmoid(np.dot(W, X))\n",
    "    y_pred = np.zeros_like(pred_proba)\n",
    "    prob_lim = 0.5\n",
    "    for idx, prob in enumerate(pred_proba):\n",
    "        if prob > prob_lim:\n",
    "            y_pred[idx] = 1\n",
    "    return y_pred"
   ]
  },
  {
   "cell_type": "code",
   "execution_count": 26,
   "metadata": {},
   "outputs": [
    {
     "data": {
      "text/plain": [
       "array([1., 1., 1., 0., 1., 1., 1., 0., 1., 1.])"
      ]
     },
     "execution_count": 26,
     "metadata": {},
     "output_type": "execute_result"
    }
   ],
   "source": [
    "y_pred = calc_pred(W, X_st)\n",
    "y_pred"
   ]
  },
  {
   "cell_type": "code",
   "execution_count": 27,
   "metadata": {},
   "outputs": [
    {
     "data": {
      "text/plain": [
       "array([0., 0., 1., 0., 1., 0., 1., 0., 1., 1.])"
      ]
     },
     "execution_count": 27,
     "metadata": {},
     "output_type": "execute_result"
    }
   ],
   "source": [
    "y_pred = calc_pred(W_new[0], X_st)\n",
    "y_pred"
   ]
  },
  {
   "cell_type": "code",
   "execution_count": 38,
   "metadata": {},
   "outputs": [
    {
     "data": {
      "text/plain": [
       "array([0., 0., 1., 0., 1., 0., 1., 0., 1., 1.])"
      ]
     },
     "execution_count": 38,
     "metadata": {},
     "output_type": "execute_result"
    }
   ],
   "source": [
    "y"
   ]
  },
  {
   "cell_type": "markdown",
   "metadata": {},
   "source": [
    "__5.__  \n",
    "Посчитайте Accuracy, матрицу ошибок, точность и полноту, а также F1 score."
   ]
  },
  {
   "cell_type": "markdown",
   "metadata": {},
   "source": [
    "$$accuracy(a,x) = \\frac{1}{l} \\sum^{l}_{i=1}[a(x_{i})=y_{i}].$$"
   ]
  },
  {
   "cell_type": "code",
   "execution_count": 28,
   "metadata": {},
   "outputs": [],
   "source": [
    "def accuracy(y, y_pred):\n",
    "    l = len(y)\n",
    "    TP_TN = 0\n",
    "    for i in range(l):\n",
    "        TP_TN += int(y[i]==y_pred[i])\n",
    "    result = TP_TN / l\n",
    "    return result"
   ]
  },
  {
   "cell_type": "code",
   "execution_count": 29,
   "metadata": {},
   "outputs": [
    {
     "data": {
      "text/plain": [
       "(1.0, 1.0)"
      ]
     },
     "execution_count": 29,
     "metadata": {},
     "output_type": "execute_result"
    }
   ],
   "source": [
    "accuracy_score(y, y_pred), accuracy(y, y_pred)"
   ]
  },
  {
   "cell_type": "code",
   "execution_count": 30,
   "metadata": {},
   "outputs": [],
   "source": [
    "def my_confusion_matrix(y, y_pred):\n",
    "    n_classes=len(np.unique(y))\n",
    "    l=len(y)\n",
    "    conf_matr=np.zeros((n_classes,n_classes), dtype='int')\n",
    "    for i in range(l):\n",
    "        conf_matr[int(y[i])][int(y_pred[i])] += 1\n",
    "    return conf_matr  "
   ]
  },
  {
   "cell_type": "code",
   "execution_count": 31,
   "metadata": {},
   "outputs": [
    {
     "data": {
      "text/plain": [
       "(array([[5, 0],\n",
       "        [0, 5]]),\n",
       " array([[5, 0],\n",
       "        [0, 5]]))"
      ]
     },
     "execution_count": 31,
     "metadata": {},
     "output_type": "execute_result"
    }
   ],
   "source": [
    "confusion_matrix(y, y_pred), my_confusion_matrix(y, y_pred)"
   ]
  },
  {
   "cell_type": "code",
   "execution_count": 32,
   "metadata": {},
   "outputs": [],
   "source": [
    "def my_precision(y, y_pred):\n",
    "    TN, FP, FN, TP = my_confusion_matrix(y, y_pred).ravel()\n",
    "    return TP/(TP+FP)"
   ]
  },
  {
   "cell_type": "code",
   "execution_count": 33,
   "metadata": {},
   "outputs": [
    {
     "data": {
      "text/plain": [
       "(1.0, 1.0)"
      ]
     },
     "execution_count": 33,
     "metadata": {},
     "output_type": "execute_result"
    }
   ],
   "source": [
    "precision_score(y, y_pred), my_precision(y, y_pred)"
   ]
  },
  {
   "cell_type": "code",
   "execution_count": 34,
   "metadata": {},
   "outputs": [],
   "source": [
    "def my_recall(y, y_pred):\n",
    "    TN, FP, FN, TP = my_confusion_matrix(y, y_pred).ravel()\n",
    "    return TP/(TP+FN)"
   ]
  },
  {
   "cell_type": "code",
   "execution_count": 35,
   "metadata": {
    "scrolled": true
   },
   "outputs": [
    {
     "data": {
      "text/plain": [
       "(1.0, 1.0)"
      ]
     },
     "execution_count": 35,
     "metadata": {},
     "output_type": "execute_result"
    }
   ],
   "source": [
    "recall_score(y, y_pred), my_recall(y, y_pred)"
   ]
  },
  {
   "cell_type": "markdown",
   "metadata": {},
   "source": [
    "$$F_{\\beta} = (1 + \\beta^{2}) \\frac{precision \\cdot recall}{\\beta^{2} \\cdot precision + recall}.$$"
   ]
  },
  {
   "cell_type": "code",
   "execution_count": 36,
   "metadata": {},
   "outputs": [],
   "source": [
    "def my_fmera(y, y_pred, beta=1):\n",
    "    precision = my_precision(y, y_pred)\n",
    "    recall = my_recall(y, y_pred)\n",
    "    fmera = (1 + beta**2) * (precision * recall)/(beta**2 * precision + recall)\n",
    "    return fmera"
   ]
  },
  {
   "cell_type": "code",
   "execution_count": 37,
   "metadata": {},
   "outputs": [
    {
     "data": {
      "text/plain": [
       "(1.0, 1.0)"
      ]
     },
     "execution_count": 37,
     "metadata": {},
     "output_type": "execute_result"
    }
   ],
   "source": [
    "f1_score(y, y_pred), my_fmera(y, y_pred)"
   ]
  },
  {
   "cell_type": "markdown",
   "metadata": {},
   "source": [
    "__6.__  \n",
    "Могла ли модель переобучиться? Почему?"
   ]
  },
  {
   "cell_type": "markdown",
   "metadata": {},
   "source": [
    "Могла и с очень большой вероятностью, потому что сигмоида не имеет максимума и минимума, а только лишь асимптоты 0 и 1, вследствие чего градиентный спуск, пытаясь достичь нулевых потерь, не может достичь оптимального решения. В качестве решения можно применять интсрументы для ранней остановки модели, а также методы регуляризации."
   ]
  },
  {
   "cell_type": "code",
   "execution_count": null,
   "metadata": {},
   "outputs": [],
   "source": []
  }
 ],
 "metadata": {
  "colab": {
   "collapsed_sections": [],
   "name": "Lesson_3_script.ipynb",
   "provenance": []
  },
  "kernelspec": {
   "display_name": "Python 3 (ipykernel)",
   "language": "python",
   "name": "python3"
  },
  "language_info": {
   "codemirror_mode": {
    "name": "ipython",
    "version": 3
   },
   "file_extension": ".py",
   "mimetype": "text/x-python",
   "name": "python",
   "nbconvert_exporter": "python",
   "pygments_lexer": "ipython3",
   "version": "3.8.8"
  }
 },
 "nbformat": 4,
 "nbformat_minor": 1
}
